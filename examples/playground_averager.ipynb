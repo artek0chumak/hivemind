{
 "cells": [
  {
   "cell_type": "code",
   "execution_count": 1,
   "id": "f475871f",
   "metadata": {},
   "outputs": [],
   "source": [
    "import hivemind\n",
    "from hivemind.optim.experimental.grad_averager import GradientAverager\n",
    "from hivemind.optim.experimental.factorized_averager import FactorizedGradientAverager\n",
    "from hivemind.optim.experimental.power_sgd_averager import PowerSGDAverager"
   ]
  },
  {
   "cell_type": "code",
   "execution_count": 2,
   "id": "892b6938",
   "metadata": {},
   "outputs": [],
   "source": [
    "dht_root = hivemind.DHT(start=True)"
   ]
  },
  {
   "cell_type": "code",
   "execution_count": 3,
   "id": "b847f0cc",
   "metadata": {},
   "outputs": [],
   "source": [
    "import torch\n",
    "import torch.nn as nn\n",
    "import torch.nn.functional as F\n",
    "import torchvision\n",
    "from torchvision.datasets import MNIST"
   ]
  },
  {
   "cell_type": "code",
   "execution_count": 4,
   "id": "c966f101",
   "metadata": {},
   "outputs": [],
   "source": [
    "transform = torchvision.transforms.Compose([torchvision.transforms.ToTensor()])\n",
    "\n",
    "train_data = MNIST(\".\", download=True, transform=transform)"
   ]
  },
  {
   "cell_type": "code",
   "execution_count": 5,
   "id": "d00289d6",
   "metadata": {},
   "outputs": [],
   "source": [
    "class SmallCNN(nn.Module):\n",
    "    def __init__(self):\n",
    "        super().__init__()\n",
    "\n",
    "        self.features = nn.Sequential(\n",
    "            nn.Conv2d(1, 4, (5, 5)),\n",
    "            nn.ReLU(),\n",
    "            nn.Conv2d(4, 16, (5, 5)),\n",
    "            nn.ReLU(),\n",
    "            nn.Conv2d(16, 64, (5, 5)),\n",
    "            nn.ReLU(),\n",
    "            nn.Conv2d(64, 64, (5, 5)),\n",
    "            nn.ReLU(),\n",
    "            nn.MaxPool2d(2)\n",
    "        )\n",
    "\n",
    "        self.cls = nn.Sequential(\n",
    "            nn.Linear(64 * 6 * 6, 400),\n",
    "            nn.ReLU(),\n",
    "            nn.Linear(400, 10)\n",
    "        )\n",
    "\n",
    "    def forward(self, x):\n",
    "        feature = self.features(x)\n",
    "        return self.cls(feature.view(x.size(0), -1))\n",
    "\n"
   ]
  },
  {
   "cell_type": "code",
   "execution_count": 6,
   "id": "6df7827d",
   "metadata": {},
   "outputs": [],
   "source": [
    "import threading\n",
    "import os\n",
    "\n",
    "class Peer(threading.Thread):\n",
    "    def __init__(self, *, start: bool):\n",
    "        super().__init__(daemon=True)\n",
    "        self.dht = hivemind.DHT(initial_peers=dht_root.get_visible_maddrs(), start=True)\n",
    "        self.model = SmallCNN()\n",
    "        for param in self.model.parameters():\n",
    "            param.grad = torch.zeros_like(param).share_memory_()\n",
    "\n",
    "#         self.averager = GradientAverager(\n",
    "#             self.model.parameters(), dht=self.dht, target_group_size=2, prefix='my_mega_exp', start=True,\n",
    "#         )\n",
    "        self.averager = FactorizedGradientAverager(\n",
    "            self.model.parameters(), 2, dht=self.dht, target_group_size=2, prefix='my_mega_exp', start=True,\n",
    "        )\n",
    "#         self.averager = PowerSGDAverager(\n",
    "#             self.model.parameters(), 2, dht=self.dht, target_group_size=2, prefix='my_mega_exp', start=True,\n",
    "#         )\n",
    "        if start:\n",
    "            self.start()\n",
    "        \n",
    "    def run(self):\n",
    "        print('started', self.dht.peer_id)\n",
    "        train_dataloader = torch.utils.data.DataLoader(train_data, num_workers=0, batch_size=32, shuffle=True)\n",
    "        opt = torch.optim.SGD(self.model.parameters(), lr=0.01)\n",
    "        \n",
    "        for i, (xb, yb) in enumerate(train_dataloader):\n",
    "            logits = self.model(xb)\n",
    "            loss = F.cross_entropy(logits, yb)\n",
    "\n",
    "            opt.zero_grad()\n",
    "            loss.backward()\n",
    "            \n",
    "            self.averager.accumulate_grads_(batch_size=32)\n",
    "\n",
    "            self.averager.step()\n",
    "            with self.averager.use_averaged_gradients():\n",
    "                opt.step()\n",
    "            self.averager.reset_accumulated_grads_()\n",
    "            \n",
    "            if i % 10 == 0:\n",
    "                print(i, self.dht.peer_id.pretty()[-3:], loss.item())\n",
    "            if i > 500: break\n",
    "        \n",
    "        \n",
    "\n"
   ]
  },
  {
   "cell_type": "code",
   "execution_count": null,
   "id": "3c9369de",
   "metadata": {},
   "outputs": [
    {
     "name": "stdout",
     "output_type": "stream",
     "text": [
      "started QmVH7UogsEXqFT9jhdDf2o34LkCVxzt176DUER2iHF98Fg\n",
      "started QmVbZ5zzp3g7TbzbY6BuAt16RH6oWZXoshSH58SCGvyo77\n",
      "0 o77 2.3087573051452637\n",
      "0 8Fg 2.302330732345581\n",
      "10 8Fg 2.3007829189300537\n",
      "10 o77 2.300511360168457\n",
      "20 8Fg 2.292266368865967\n",
      "20 o77 2.310678482055664\n",
      "30 8Fg 2.2952449321746826\n",
      "30 o77 2.294466257095337\n",
      "40 o77 2.305081844329834\n",
      "40 8Fg 2.2960262298583984\n",
      "50 8Fg 2.301462411880493\n",
      "50 o77 2.300893783569336\n",
      "60 o77 2.305816173553467\n",
      "60 8Fg 2.3013172149658203\n",
      "70 o77 2.30063796043396\n",
      "70 8Fg 2.3092100620269775\n",
      "80 o77 2.3058948516845703\n",
      "80 8Fg 2.3066720962524414\n",
      "90 o77 2.3082518577575684\n",
      "90 8Fg 2.302436113357544\n",
      "100 8Fg 2.2975590229034424\n",
      "100 o77 2.299251079559326\n",
      "110 o77 2.303760051727295\n",
      "110 8Fg 2.298640727996826\n",
      "120 o77 2.3013532161712646\n",
      "120 8Fg 2.2970705032348633\n"
     ]
    }
   ],
   "source": [
    "peers = [Peer(start=False), Peer(start=False)]\n",
    "\n",
    "peers[1].model.load_state_dict(peers[0].model.state_dict())\n",
    "\n",
    "\n",
    "for peer in peers:\n",
    "    peer.start()\n",
    "for p in peers:\n",
    "    p.join()"
   ]
  },
  {
   "cell_type": "code",
   "execution_count": null,
   "id": "8194da3a",
   "metadata": {},
   "outputs": [],
   "source": []
  },
  {
   "cell_type": "code",
   "execution_count": null,
   "id": "68f41e0c",
   "metadata": {},
   "outputs": [],
   "source": []
  }
 ],
 "metadata": {
  "kernelspec": {
   "display_name": "Python 3 (ipykernel)",
   "language": "python",
   "name": "python3"
  },
  "language_info": {
   "codemirror_mode": {
    "name": "ipython",
    "version": 3
   },
   "file_extension": ".py",
   "mimetype": "text/x-python",
   "name": "python",
   "nbconvert_exporter": "python",
   "pygments_lexer": "ipython3",
   "version": "3.8.10"
  }
 },
 "nbformat": 4,
 "nbformat_minor": 5
}
